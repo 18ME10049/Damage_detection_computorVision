{
 "cells": [
  {
   "cell_type": "code",
   "execution_count": 1,
   "id": "ee046c90",
   "metadata": {},
   "outputs": [
    {
     "name": "stdout",
     "output_type": "stream",
     "text": [
      "Requirement already satisfied: opencv-python in c:\\users\\sandeep\\anaconda3\\lib\\site-packages (4.5.5.62)\n",
      "Requirement already satisfied: numpy>=1.17.3 in c:\\users\\sandeep\\anaconda3\\lib\\site-packages (from opencv-python) (1.20.3)\n",
      "Note: you may need to restart the kernel to use updated packages.\n"
     ]
    }
   ],
   "source": [
    "# pip install opencv-python"
   ]
  },
  {
   "cell_type": "code",
   "execution_count": 55,
   "id": "afbac4dd",
   "metadata": {},
   "outputs": [],
   "source": [
    "import cv2\n",
    "import os\n",
    "import pandas as pd"
   ]
  },
  {
   "cell_type": "code",
   "execution_count": 56,
   "id": "fe913104",
   "metadata": {},
   "outputs": [],
   "source": [
    "folderName = r\"C:\\Users\\Sandeep\\OneDrive\\Desktop\\ML_Cuvette\\cat\"\n",
    "fileName = r\"C:\\Users\\Sandeep\\OneDrive\\Desktop\\ML_Cuvette\\data_labels.csv\""
   ]
  },
  {
   "cell_type": "code",
   "execution_count": 57,
   "id": "b76a33a8",
   "metadata": {},
   "outputs": [],
   "source": [
    "def load_images_from_folder(folder):\n",
    "    images = []\n",
    "    for filename in os.listdir(folder):\n",
    "        img = cv2.imread(os.path.join(folder,filename))\n",
    "        if img is not None:\n",
    "            images.append(img)\n",
    "    return images\n",
    "\n",
    "def read_csv_file(file):\n",
    "    df = pd.read_csv(file)\n",
    "    return df\n",
    "\n",
    "def DrawOnImages(images, df):\n",
    "    paath = \"C:\\\\Users\\\\Sandeep\\\\OneDrive\\\\Desktop\\\\ML_Cuvette\\\\result\"\n",
    "    for i in range(0, len(images)):\n",
    "        img = images[i]\n",
    "        prop = df.iloc[i]\n",
    "        b = (4234-17*i)%255\n",
    "        g = (24*i+i*i+32687233)%255\n",
    "        r = (232476342+i*i*i+3224)%255\n",
    "        img = cv2.rectangle(img,(prop.xmin,prop.ymin), (prop.xmax,prop.ymax), (b,g,r), 5)\n",
    "        font = cv2.FONT_HERSHEY_SIMPLEX\n",
    "        cv2.putText(img, prop.label, (prop.xmin+20,prop.ymin+30), font, 1, (r, g, b) , 3)\n",
    "#         cv2.imshow(\"window\"+str(i), img)\n",
    "#         cv2.imwrite(os.path.join(paath,'result_'+str(prop.name)),img)\n",
    "        path = 'C:\\\\Users\\\\Sandeep\\\\OneDrive\\\\Desktop\\\\ML_Cuvette\\\\result'\n",
    "        cv2.imwrite(os.path.join(path , prop['name']), img)\n",
    "#         cv2.waitKey(1000)\n",
    "#         cv2.destroyAllWindows()"
   ]
  },
  {
   "cell_type": "code",
   "execution_count": 58,
   "id": "6d52d3ba",
   "metadata": {},
   "outputs": [],
   "source": [
    "df = read_csv_file(fileName)\n",
    "images = load_images_from_folder(folderName)\n",
    "DrawOnImages(images,df)"
   ]
  },
  {
   "cell_type": "code",
   "execution_count": 54,
   "id": "3298ffae",
   "metadata": {},
   "outputs": [],
   "source": []
  },
  {
   "cell_type": "code",
   "execution_count": 25,
   "id": "9dc8fc4e",
   "metadata": {},
   "outputs": [],
   "source": []
  },
  {
   "cell_type": "code",
   "execution_count": 11,
   "id": "92f484f4",
   "metadata": {},
   "outputs": [],
   "source": []
  },
  {
   "cell_type": "code",
   "execution_count": null,
   "id": "04da1327",
   "metadata": {},
   "outputs": [],
   "source": []
  },
  {
   "cell_type": "code",
   "execution_count": null,
   "id": "a33dab98",
   "metadata": {},
   "outputs": [],
   "source": []
  }
 ],
 "metadata": {
  "kernelspec": {
   "display_name": "Python 3 (ipykernel)",
   "language": "python",
   "name": "python3"
  },
  "language_info": {
   "codemirror_mode": {
    "name": "ipython",
    "version": 3
   },
   "file_extension": ".py",
   "mimetype": "text/x-python",
   "name": "python",
   "nbconvert_exporter": "python",
   "pygments_lexer": "ipython3",
   "version": "3.9.7"
  }
 },
 "nbformat": 4,
 "nbformat_minor": 5
}
